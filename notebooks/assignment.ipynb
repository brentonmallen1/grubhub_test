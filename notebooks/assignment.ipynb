{
 "cells": [
  {
   "cell_type": "markdown",
   "metadata": {
    "id": "oyxsm5ZNRMtb",
    "colab_type": "text"
   },
   "source": [
    "# Machine learning take-home assignment\n",
    "\n",
    "We at GrubHub very often develop our models in a Jupyter notebook until we're satisfied of the results. Then, we take that code and refactor it as a proper production-ready program, version-managed by Git.\n",
    "\n",
    "As part of your work, you might have to perform this kind of task: taking code from a data scientist in the form of a Jupyter notebook and helping him/her write production-ready code.\n",
    "\n",
    "The task consist in refactoring the below code as a production-ready program. You need to write a small Python command line program that will train a model (using the code below) given the command line parameter `-r/--region_id` and persist that model. Here's an example of a command line call:\n",
    "```\n",
    "train --region_id 1\n",
    "```\n",
    "Your program does not need to produce any charts.\n",
    "\n",
    "We want to see how you can organize the below code into functions, classes (although you are not required to use classes) and modules in order to make it modular and extensible. Your code should be robust to potential issues.\n",
    "\n",
    "In addition, your command line program should be packaged to be pip installable. That means you'll need a _setup.py_ file and all other required files to be installable through pip.\n",
    "\n",
    "You can submit your work as an archive of your choice.\n",
    "\n",
    "You should try to spend no more than 3 hours on this assignment. If you don't have time to implement what you want, it's perfectly okay to simply write a comment in your code explaining what you would do."
   ]
  },
  {
   "cell_type": "markdown",
   "metadata": {
    "id": "GIKEoejjRMtc",
    "colab_type": "text"
   },
   "source": [
    "### Predicting volume\n",
    "The following reads data and train a random forest to predict the volume of orders received."
   ]
  },
  {
   "cell_type": "markdown",
   "metadata": {
    "id": "OtaZ8U5hRMtd",
    "colab_type": "text"
   },
   "source": [
    "First, load the data."
   ]
  },
  {
   "cell_type": "code",
   "execution_count": null,
   "metadata": {
    "id": "ZRGV9ofjRMtd",
    "colab_type": "code",
    "colab": {}
   },
   "outputs": [],
   "source": [
    "import pandas as pd\n",
    "import numpy as np\n",
    "import matplotlib.pyplot as plt"
   ]
  },
  {
   "cell_type": "code",
   "execution_count": 0,
   "metadata": {
    "id": "U8Yi6XAqRMti",
    "colab_type": "code",
    "colab": {}
   },
   "outputs": [],
   "source": [
    "doc_id = '1vKJ0GIKw18td9iHpKPa5N14fFsrBaYJY'\n",
    "\n",
    "url = 'https://drive.google.com/uc?id={}&export=dowload'.format(doc_id)\n",
    "df = pd.read_csv(url, parse_dates=['date'])"
   ]
  },
  {
   "cell_type": "code",
   "execution_count": 3,
   "metadata": {
    "id": "L-TZbRShRMtj",
    "colab_type": "code",
    "colab": {
     "base_uri": "https://localhost:8080/",
     "height": 204.0
    },
    "outputId": "03ff4f19-7edc-4a4f-a75c-97edee079fde"
   },
   "outputs": [
    {
     "data": {
      "text/html": [
       "<div>\n",
       "<style scoped>\n",
       "    .dataframe tbody tr th:only-of-type {\n",
       "        vertical-align: middle;\n",
       "    }\n",
       "\n",
       "    .dataframe tbody tr th {\n",
       "        vertical-align: top;\n",
       "    }\n",
       "\n",
       "    .dataframe thead th {\n",
       "        text-align: right;\n",
       "    }\n",
       "</style>\n",
       "<table border=\"1\" class=\"dataframe\">\n",
       "  <thead>\n",
       "    <tr style=\"text-align: right;\">\n",
       "      <th></th>\n",
       "      <th>date</th>\n",
       "      <th>event</th>\n",
       "      <th>order_count</th>\n",
       "      <th>region_id</th>\n",
       "    </tr>\n",
       "  </thead>\n",
       "  <tbody>\n",
       "    <tr>\n",
       "      <th>0</th>\n",
       "      <td>2018-01-01</td>\n",
       "      <td>0</td>\n",
       "      <td>7</td>\n",
       "      <td>1</td>\n",
       "    </tr>\n",
       "    <tr>\n",
       "      <th>1</th>\n",
       "      <td>2018-01-02</td>\n",
       "      <td>0</td>\n",
       "      <td>20</td>\n",
       "      <td>1</td>\n",
       "    </tr>\n",
       "    <tr>\n",
       "      <th>2</th>\n",
       "      <td>2018-01-03</td>\n",
       "      <td>0</td>\n",
       "      <td>22</td>\n",
       "      <td>1</td>\n",
       "    </tr>\n",
       "    <tr>\n",
       "      <th>3</th>\n",
       "      <td>2018-01-04</td>\n",
       "      <td>0</td>\n",
       "      <td>32</td>\n",
       "      <td>1</td>\n",
       "    </tr>\n",
       "    <tr>\n",
       "      <th>4</th>\n",
       "      <td>2018-01-05</td>\n",
       "      <td>0</td>\n",
       "      <td>42</td>\n",
       "      <td>1</td>\n",
       "    </tr>\n",
       "  </tbody>\n",
       "</table>\n",
       "</div>"
      ],
      "text/plain": [
       "        date  event  order_count  region_id\n",
       "0 2018-01-01      0            7          1\n",
       "1 2018-01-02      0           20          1\n",
       "2 2018-01-03      0           22          1\n",
       "3 2018-01-04      0           32          1\n",
       "4 2018-01-05      0           42          1"
      ]
     },
     "execution_count": 3,
     "metadata": {
      "tags": []
     },
     "output_type": "execute_result"
    }
   ],
   "source": [
    "df.head()"
   ]
  },
  {
   "cell_type": "code",
   "execution_count": 4,
   "metadata": {
    "id": "jC0olP9CRMtn",
    "colab_type": "code",
    "colab": {
     "base_uri": "https://localhost:8080/",
     "height": 170.0
    },
    "outputId": "5c728ae1-1214-427b-b890-6e27d8342f67"
   },
   "outputs": [
    {
     "name": "stdout",
     "output_type": "stream",
     "text": [
      "<class 'pandas.core.frame.DataFrame'>\n",
      "RangeIndex: 2192 entries, 0 to 2191\n",
      "Data columns (total 4 columns):\n",
      "date           2192 non-null datetime64[ns]\n",
      "event          2192 non-null int64\n",
      "order_count    2192 non-null int64\n",
      "region_id      2192 non-null int64\n",
      "dtypes: datetime64[ns](1), int64(3)\n",
      "memory usage: 68.6 KB\n"
     ]
    }
   ],
   "source": [
    "df.info()"
   ]
  },
  {
   "cell_type": "markdown",
   "metadata": {
    "id": "JJ0es4cTRMtp",
    "colab_type": "text"
   },
   "source": [
    "Feature engineering: add weekday, month and time index"
   ]
  },
  {
   "cell_type": "code",
   "execution_count": 5,
   "metadata": {
    "id": "qfcJa_NtRMtp",
    "colab_type": "code",
    "colab": {
     "base_uri": "https://localhost:8080/",
     "height": 204.0
    },
    "outputId": "d869a498-c05a-4e1e-e44d-e552150270f9"
   },
   "outputs": [
    {
     "data": {
      "text/html": [
       "<div>\n",
       "<style scoped>\n",
       "    .dataframe tbody tr th:only-of-type {\n",
       "        vertical-align: middle;\n",
       "    }\n",
       "\n",
       "    .dataframe tbody tr th {\n",
       "        vertical-align: top;\n",
       "    }\n",
       "\n",
       "    .dataframe thead th {\n",
       "        text-align: right;\n",
       "    }\n",
       "</style>\n",
       "<table border=\"1\" class=\"dataframe\">\n",
       "  <thead>\n",
       "    <tr style=\"text-align: right;\">\n",
       "      <th></th>\n",
       "      <th>date</th>\n",
       "      <th>event</th>\n",
       "      <th>order_count</th>\n",
       "      <th>region_id</th>\n",
       "      <th>month</th>\n",
       "      <th>weekday</th>\n",
       "    </tr>\n",
       "  </thead>\n",
       "  <tbody>\n",
       "    <tr>\n",
       "      <th>0</th>\n",
       "      <td>2018-01-01</td>\n",
       "      <td>0</td>\n",
       "      <td>7</td>\n",
       "      <td>1</td>\n",
       "      <td>1</td>\n",
       "      <td>0</td>\n",
       "    </tr>\n",
       "    <tr>\n",
       "      <th>1</th>\n",
       "      <td>2018-01-02</td>\n",
       "      <td>0</td>\n",
       "      <td>20</td>\n",
       "      <td>1</td>\n",
       "      <td>1</td>\n",
       "      <td>1</td>\n",
       "    </tr>\n",
       "    <tr>\n",
       "      <th>2</th>\n",
       "      <td>2018-01-03</td>\n",
       "      <td>0</td>\n",
       "      <td>22</td>\n",
       "      <td>1</td>\n",
       "      <td>1</td>\n",
       "      <td>2</td>\n",
       "    </tr>\n",
       "    <tr>\n",
       "      <th>3</th>\n",
       "      <td>2018-01-04</td>\n",
       "      <td>0</td>\n",
       "      <td>32</td>\n",
       "      <td>1</td>\n",
       "      <td>1</td>\n",
       "      <td>3</td>\n",
       "    </tr>\n",
       "    <tr>\n",
       "      <th>4</th>\n",
       "      <td>2018-01-05</td>\n",
       "      <td>0</td>\n",
       "      <td>42</td>\n",
       "      <td>1</td>\n",
       "      <td>1</td>\n",
       "      <td>4</td>\n",
       "    </tr>\n",
       "  </tbody>\n",
       "</table>\n",
       "</div>"
      ],
      "text/plain": [
       "        date  event  order_count  region_id  month  weekday\n",
       "0 2018-01-01      0            7          1      1        0\n",
       "1 2018-01-02      0           20          1      1        1\n",
       "2 2018-01-03      0           22          1      1        2\n",
       "3 2018-01-04      0           32          1      1        3\n",
       "4 2018-01-05      0           42          1      1        4"
      ]
     },
     "execution_count": 5,
     "metadata": {
      "tags": []
     },
     "output_type": "execute_result"
    }
   ],
   "source": [
    "df.loc[:, 'month'] = df.date.dt.month\n",
    "df.loc[:, 'weekday'] = df.date.dt.weekday\n",
    "\n",
    "df.head()"
   ]
  },
  {
   "cell_type": "markdown",
   "metadata": {
    "id": "Uq4eNVc7RMts",
    "colab_type": "text"
   },
   "source": [
    "The `time` column is simply an index running from 0 to the number of element in a region timeseries. Thus, it is region specific: it has to start at zero on the first date of the timeseries of a given region. "
   ]
  },
  {
   "cell_type": "code",
   "execution_count": 0,
   "metadata": {
    "id": "yA1y3pLbRMtt",
    "colab_type": "code",
    "colab": {}
   },
   "outputs": [],
   "source": [
    "df = df.sort_values('date')\n",
    "\n",
    "df.loc[df.region_id == 1, 'time'] = range(0, len(df.loc[df.region_id == 1]))\n",
    "df.loc[df.region_id == 2, 'time'] = range(0, len(df.loc[df.region_id == 2]))"
   ]
  },
  {
   "cell_type": "code",
   "execution_count": 7,
   "metadata": {
    "id": "olViBg4iRMtv",
    "colab_type": "code",
    "colab": {
     "base_uri": "https://localhost:8080/",
     "height": 204.0
    },
    "outputId": "9a5e2919-af94-42ff-b185-e994da3de12d"
   },
   "outputs": [
    {
     "data": {
      "text/html": [
       "<div>\n",
       "<style scoped>\n",
       "    .dataframe tbody tr th:only-of-type {\n",
       "        vertical-align: middle;\n",
       "    }\n",
       "\n",
       "    .dataframe tbody tr th {\n",
       "        vertical-align: top;\n",
       "    }\n",
       "\n",
       "    .dataframe thead th {\n",
       "        text-align: right;\n",
       "    }\n",
       "</style>\n",
       "<table border=\"1\" class=\"dataframe\">\n",
       "  <thead>\n",
       "    <tr style=\"text-align: right;\">\n",
       "      <th></th>\n",
       "      <th>date</th>\n",
       "      <th>event</th>\n",
       "      <th>order_count</th>\n",
       "      <th>region_id</th>\n",
       "      <th>month</th>\n",
       "      <th>weekday</th>\n",
       "      <th>time</th>\n",
       "    </tr>\n",
       "  </thead>\n",
       "  <tbody>\n",
       "    <tr>\n",
       "      <th>0</th>\n",
       "      <td>2018-01-01</td>\n",
       "      <td>0</td>\n",
       "      <td>7</td>\n",
       "      <td>1</td>\n",
       "      <td>1</td>\n",
       "      <td>0</td>\n",
       "      <td>0.0</td>\n",
       "    </tr>\n",
       "    <tr>\n",
       "      <th>1</th>\n",
       "      <td>2018-01-02</td>\n",
       "      <td>0</td>\n",
       "      <td>20</td>\n",
       "      <td>1</td>\n",
       "      <td>1</td>\n",
       "      <td>1</td>\n",
       "      <td>1.0</td>\n",
       "    </tr>\n",
       "    <tr>\n",
       "      <th>2</th>\n",
       "      <td>2018-01-03</td>\n",
       "      <td>0</td>\n",
       "      <td>22</td>\n",
       "      <td>1</td>\n",
       "      <td>1</td>\n",
       "      <td>2</td>\n",
       "      <td>2.0</td>\n",
       "    </tr>\n",
       "    <tr>\n",
       "      <th>3</th>\n",
       "      <td>2018-01-04</td>\n",
       "      <td>0</td>\n",
       "      <td>32</td>\n",
       "      <td>1</td>\n",
       "      <td>1</td>\n",
       "      <td>3</td>\n",
       "      <td>3.0</td>\n",
       "    </tr>\n",
       "    <tr>\n",
       "      <th>4</th>\n",
       "      <td>2018-01-05</td>\n",
       "      <td>0</td>\n",
       "      <td>42</td>\n",
       "      <td>1</td>\n",
       "      <td>1</td>\n",
       "      <td>4</td>\n",
       "      <td>4.0</td>\n",
       "    </tr>\n",
       "  </tbody>\n",
       "</table>\n",
       "</div>"
      ],
      "text/plain": [
       "        date  event  order_count  region_id  month  weekday  time\n",
       "0 2018-01-01      0            7          1      1        0   0.0\n",
       "1 2018-01-02      0           20          1      1        1   1.0\n",
       "2 2018-01-03      0           22          1      1        2   2.0\n",
       "3 2018-01-04      0           32          1      1        3   3.0\n",
       "4 2018-01-05      0           42          1      1        4   4.0"
      ]
     },
     "execution_count": 7,
     "metadata": {
      "tags": []
     },
     "output_type": "execute_result"
    }
   ],
   "source": [
    "df[df.region_id == 1].head()"
   ]
  },
  {
   "cell_type": "code",
   "execution_count": 8,
   "metadata": {
    "id": "mUHVCgpORMtx",
    "colab_type": "code",
    "colab": {
     "base_uri": "https://localhost:8080/",
     "height": 204.0
    },
    "outputId": "aa809159-b285-4125-e8bd-50b356ec5045"
   },
   "outputs": [
    {
     "data": {
      "text/html": [
       "<div>\n",
       "<style scoped>\n",
       "    .dataframe tbody tr th:only-of-type {\n",
       "        vertical-align: middle;\n",
       "    }\n",
       "\n",
       "    .dataframe tbody tr th {\n",
       "        vertical-align: top;\n",
       "    }\n",
       "\n",
       "    .dataframe thead th {\n",
       "        text-align: right;\n",
       "    }\n",
       "</style>\n",
       "<table border=\"1\" class=\"dataframe\">\n",
       "  <thead>\n",
       "    <tr style=\"text-align: right;\">\n",
       "      <th></th>\n",
       "      <th>date</th>\n",
       "      <th>event</th>\n",
       "      <th>order_count</th>\n",
       "      <th>region_id</th>\n",
       "      <th>month</th>\n",
       "      <th>weekday</th>\n",
       "      <th>time</th>\n",
       "    </tr>\n",
       "  </thead>\n",
       "  <tbody>\n",
       "    <tr>\n",
       "      <th>1096</th>\n",
       "      <td>2015-01-01</td>\n",
       "      <td>0</td>\n",
       "      <td>32</td>\n",
       "      <td>2</td>\n",
       "      <td>1</td>\n",
       "      <td>3</td>\n",
       "      <td>0.0</td>\n",
       "    </tr>\n",
       "    <tr>\n",
       "      <th>1097</th>\n",
       "      <td>2015-01-02</td>\n",
       "      <td>0</td>\n",
       "      <td>37</td>\n",
       "      <td>2</td>\n",
       "      <td>1</td>\n",
       "      <td>4</td>\n",
       "      <td>1.0</td>\n",
       "    </tr>\n",
       "    <tr>\n",
       "      <th>1098</th>\n",
       "      <td>2015-01-03</td>\n",
       "      <td>0</td>\n",
       "      <td>6</td>\n",
       "      <td>2</td>\n",
       "      <td>1</td>\n",
       "      <td>5</td>\n",
       "      <td>2.0</td>\n",
       "    </tr>\n",
       "    <tr>\n",
       "      <th>1099</th>\n",
       "      <td>2015-01-04</td>\n",
       "      <td>0</td>\n",
       "      <td>5</td>\n",
       "      <td>2</td>\n",
       "      <td>1</td>\n",
       "      <td>6</td>\n",
       "      <td>3.0</td>\n",
       "    </tr>\n",
       "    <tr>\n",
       "      <th>1100</th>\n",
       "      <td>2015-01-05</td>\n",
       "      <td>0</td>\n",
       "      <td>11</td>\n",
       "      <td>2</td>\n",
       "      <td>1</td>\n",
       "      <td>0</td>\n",
       "      <td>4.0</td>\n",
       "    </tr>\n",
       "  </tbody>\n",
       "</table>\n",
       "</div>"
      ],
      "text/plain": [
       "           date  event  order_count  region_id  month  weekday  time\n",
       "1096 2015-01-01      0           32          2      1        3   0.0\n",
       "1097 2015-01-02      0           37          2      1        4   1.0\n",
       "1098 2015-01-03      0            6          2      1        5   2.0\n",
       "1099 2015-01-04      0            5          2      1        6   3.0\n",
       "1100 2015-01-05      0           11          2      1        0   4.0"
      ]
     },
     "execution_count": 8,
     "metadata": {
      "tags": []
     },
     "output_type": "execute_result"
    }
   ],
   "source": [
    "df[df.region_id == 2].head()"
   ]
  },
  {
   "cell_type": "markdown",
   "metadata": {
    "id": "gYUmAVEpRMt0",
    "colab_type": "text"
   },
   "source": [
    "Train a random forest on region 1. \n",
    "\n",
    "We should tune this model eventually. For now, we'll go with 50 trees."
   ]
  },
  {
   "cell_type": "code",
   "execution_count": 9,
   "metadata": {
    "id": "ot1od51oRMt0",
    "colab_type": "code",
    "colab": {
     "base_uri": "https://localhost:8080/",
     "height": 34.0
    },
    "outputId": "968e9063-0261-443d-d1b7-429dec8d2103"
   },
   "outputs": [
    {
     "data": {
      "text/plain": [
       "20.630599500897286"
      ]
     },
     "execution_count": 9,
     "metadata": {
      "tags": []
     },
     "output_type": "execute_result"
    }
   ],
   "source": [
    "from sklearn.ensemble import RandomForestRegressor\n",
    "\n",
    "n_trees = 50\n",
    "rf = RandomForestRegressor(n_trees, min_samples_leaf=1)\n",
    "\n",
    "predictors = ['weekday', 'month', 'event', 'time']\n",
    "\n",
    "region_1 = df[df.region_id == 1].copy()\n",
    "rf.fit(region_1[predictors], region_1.order_count)\n",
    "\n",
    "region_1.loc[:, 'predicted'] = rf.predict(region_1[predictors])\n",
    "region_1.loc[:, 'residual'] = region_1.order_count - region_1.predicted\n",
    "\n",
    "rmse_1 = np.sqrt(region_1.residual.pow(2).mean())\n",
    "rmse_1"
   ]
  },
  {
   "cell_type": "code",
   "execution_count": 10,
   "metadata": {
    "id": "BcSEuq8ZRMt3",
    "colab_type": "code",
    "colab": {
     "base_uri": "https://localhost:8080/",
     "height": 297.0
    },
    "outputId": "9792f7ca-9854-47fb-bf1e-7120bdb93954"
   },
   "outputs": [
    {
     "data": {
      "text/plain": [
       "Text(0.5,1,u'Region 1 training predictions')"
      ]
     },
     "execution_count": 10,
     "metadata": {
      "tags": []
     },
     "output_type": "execute_result"
    },
    {
     "data": {
      "image/png": "[encoded data removed]",
      "text/plain": [
       "<matplotlib.figure.Figure at 0x7f4401a80d10>"
      ]
     },
     "metadata": {
      "tags": []
     },
     "output_type": "display_data"
    }
   ],
   "source": [
    "fig, ax = plt.subplots(figsize=(8, 4))\n",
    "\n",
    "ax.plot(region_1.date, region_1.order_count, color='0.5')\n",
    "ax.plot(region_1.date, region_1.predicted, lw=0.5)\n",
    "\n",
    "ax.text(0.05, 0.9,\n",
    "        'train rmse {:0.2f}'.format(rmse_1),\n",
    "        transform=ax.transAxes, color='0.5', size=16)\n",
    "ax.set_ylabel('volume')\n",
    "ax.set_title('Region 1 training predictions')"
   ]
  },
  {
   "cell_type": "markdown",
   "metadata": {
    "id": "aMlNzjElRMt7",
    "colab_type": "text"
   },
   "source": [
    "Train a random forest on region 2"
   ]
  },
  {
   "cell_type": "code",
   "execution_count": 11,
   "metadata": {
    "id": "DXW7EKoaRMt7",
    "colab_type": "code",
    "colab": {
     "base_uri": "https://localhost:8080/",
     "height": 34.0
    },
    "outputId": "2712cb4a-1bb9-45a7-97d0-5e3036accda3"
   },
   "outputs": [
    {
     "data": {
      "text/plain": [
       "18.27339156850907"
      ]
     },
     "execution_count": 11,
     "metadata": {
      "tags": []
     },
     "output_type": "execute_result"
    }
   ],
   "source": [
    "from sklearn.ensemble import RandomForestRegressor\n",
    "\n",
    "n_trees = 50\n",
    "rf_2 = RandomForestRegressor(n_trees, min_samples_leaf=1)\n",
    "\n",
    "predictors = ['weekday', 'month', 'event', 'time']\n",
    "\n",
    "region_2 = df[df.region_id == 2].copy()\n",
    "rf.fit(region_2[predictors], region_2.order_count)\n",
    "\n",
    "region_2.loc[:, 'predicted'] = rf.predict(region_2[predictors])\n",
    "region_2.loc[:, 'residual'] = region_2.order_count - region_2.predicted\n",
    "\n",
    "rmse_2 = np.sqrt(region_2.residual.pow(2).mean())\n",
    "rmse_2"
   ]
  },
  {
   "cell_type": "code",
   "execution_count": 12,
   "metadata": {
    "id": "FzZmx__sRMt9",
    "colab_type": "code",
    "colab": {
     "base_uri": "https://localhost:8080/",
     "height": 297.0
    },
    "outputId": "a7447deb-00e2-4d89-c313-8dcb2847792a"
   },
   "outputs": [
    {
     "data": {
      "text/plain": [
       "Text(0.5,1,u'Region 2 training predictions')"
      ]
     },
     "execution_count": 12,
     "metadata": {
      "tags": []
     },
     "output_type": "execute_result"
    },
    {
     "data": {
      "image/png": "[encoded data removed]",
      "text/plain": [
       "<matplotlib.figure.Figure at 0x7f43feebd550>"
      ]
     },
     "metadata": {
      "tags": []
     },
     "output_type": "display_data"
    }
   ],
   "source": [
    "fig, ax = plt.subplots(figsize=(8, 4))\n",
    "\n",
    "ax.plot(region_2.date, region_2.order_count, color='0.5')\n",
    "ax.plot(region_2.date, region_2.predicted, lw=0.5)\n",
    "\n",
    "ax.text(0.05, 0.9,\n",
    "        'train rmse {:0.2f}'.format(rmse_2),\n",
    "        transform=ax.transAxes, color='0.5', size=16)\n",
    "ax.set_ylabel('volume')\n",
    "ax.set_title('Region 2 training predictions')"
   ]
  },
  {
   "cell_type": "code",
   "execution_count": 0,
   "metadata": {
    "id": "BTU80yJURMuA",
    "colab_type": "code",
    "colab": {}
   },
   "outputs": [],
   "source": [
    ""
   ]
  }
 ],
 "metadata": {
  "colab": {
   "name": "python-programming-take-home.ipynb",
   "version": "0.3.2",
   "provenance": [],
   "collapsed_sections": []
  },
  "kernelspec": {
   "display_name": "Python 2",
   "language": "python",
   "name": "python2"
  }
 },
 "nbformat": 4,
 "nbformat_minor": 0
}
